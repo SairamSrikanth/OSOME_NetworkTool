{
 "cells": [
  {
   "cell_type": "code",
   "execution_count": 1,
   "id": "dd1d598f",
   "metadata": {},
   "outputs": [],
   "source": [
    "import urllib.request\n",
    "import time\n",
    "from selenium import webdriver\n",
    "from selenium.webdriver.common.by import By\n",
    "from selenium.webdriver.common.keys import Keys\n",
    "from selenium.webdriver.support.ui import Select\n",
    "from selenium.webdriver.support.ui import WebDriverWait\n",
    "from selenium.webdriver.support import expected_conditions as EC"
   ]
  },
  {
   "cell_type": "code",
   "execution_count": 2,
   "id": "fc7d398d",
   "metadata": {},
   "outputs": [],
   "source": [
    "webdriver_path = r\"C:\\Users\\Sai's PC\\Downloads\\chromedriver_for selenium\\chromedriver.exe\""
   ]
  },
  {
   "cell_type": "code",
   "execution_count": 3,
   "id": "59b1179f",
   "metadata": {},
   "outputs": [
    {
     "name": "stderr",
     "output_type": "stream",
     "text": [
      "C:\\Users\\SAI'SP~1\\AppData\\Local\\Temp/ipykernel_4488/1319876204.py:1: DeprecationWarning: executable_path has been deprecated, please pass in a Service object\n",
      "  driver = webdriver.Chrome(webdriver_path)\n"
     ]
    }
   ],
   "source": [
    "driver = webdriver.Chrome(webdriver_path)"
   ]
  },
  {
   "cell_type": "code",
   "execution_count": 4,
   "id": "a6a3d375",
   "metadata": {
    "scrolled": false
   },
   "outputs": [],
   "source": [
    "#Opening the website for network tool\n",
    "driver.get('https://osome.iu.edu/tools/networks/')\n",
    "time.sleep(5)\n",
    "#Inserting query hashtag\n",
    "query_element = driver.find_element('id','query')\n",
    "query_element.send_keys('#pharmaceutical')\n",
    "#Selecting the co-occurence option\n",
    "co_occ_element = driver.find_element('id','co')\n",
    "co_occ_element.click()\n",
    "query_element.submit()\n",
    "#Driver wait for network to be synthesized\n",
    "wait = WebDriverWait(driver, 30)\n",
    "#Opening the dropdown \n",
    "dropdown_toggle = WebDriverWait(driver, 10).until(\n",
    "    EC.element_to_be_clickable((By.XPATH, '//button[contains(@class, \"grayblue export-button dropdown-toggle\")]'))\n",
    ")\n",
    "dropdown_toggle.click()\n",
    "#Downloading the Graph Network \n",
    "option = WebDriverWait(driver, 10).until(EC.element_to_be_clickable((By.XPATH, '//a[text()=\"Download GML\"]')))\n",
    "option.click()\n",
    "time.sleep(10)"
   ]
  },
  {
   "cell_type": "code",
   "execution_count": null,
   "id": "d68430df",
   "metadata": {},
   "outputs": [],
   "source": []
  }
 ],
 "metadata": {
  "kernelspec": {
   "display_name": "Python 3 (ipykernel)",
   "language": "python",
   "name": "python3"
  },
  "language_info": {
   "codemirror_mode": {
    "name": "ipython",
    "version": 3
   },
   "file_extension": ".py",
   "mimetype": "text/x-python",
   "name": "python",
   "nbconvert_exporter": "python",
   "pygments_lexer": "ipython3",
   "version": "3.9.7"
  }
 },
 "nbformat": 4,
 "nbformat_minor": 5
}
